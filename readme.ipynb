{
 "cells": [
  {
   "cell_type": "markdown",
   "metadata": {},
   "source": [
    "# Flights dataset"
   ]
  },
  {
   "cell_type": "markdown",
   "metadata": {},
   "source": [
    "#### Each row of the dataset contains the number of flights made in August 2020 by specific airport and carrier and all different reasons of delay for these flights.\n",
    "\n",
    "#### Our dataset contains the number of cancelled flights and 6 different delay reasons for each one of 17 different carriers and 355 airports."
   ]
  },
  {
   "cell_type": "markdown",
   "metadata": {},
   "source": [
    "### Flights delay time : "
   ]
  },
  {
   "cell_type": "markdown",
   "metadata": {},
   "source": [
    "#### arr_delay represent all the delay (in minutes) that was caused by the five reasons (carrier-weaher-NAS-security-late aircraft).\n",
    "\n",
    "#### Delay time is directly proportional to the total number of flights. So, when we study all delay variables we should take into consideration the number of flights.\n",
    "\n",
    "#### Security delay is very low and almost not effective to the total delay. The remaining four reasons are effective and their distibutions are close to each other with slight increase in carrier delay."
   ]
  },
  {
   "cell_type": "markdown",
   "metadata": {},
   "source": [
    "### Carriers, their delay and cancelled flights :"
   ]
  },
  {
   "cell_type": "markdown",
   "metadata": {},
   "source": [
    "#### One of the things we can notice that the most number of cancelled flights lie with HA carrier although HA is the least one existed in our data with very low carrier delay. So, it is clear that the carrier delay is not the reason behind cancelling the flights. Another case that ensures our conclusion is OO carrier that existed the most in our data with slight large median and maximum carrier delay but a very low cancelled flights."
   ]
  },
  {
   "cell_type": "markdown",
   "metadata": {},
   "source": [
    "All plots ensures our earlier conclusions that carrier delay is directly proportional to carrier_ct but cancelled flight in each carrier does not depend on the two variables."
   ]
  },
  {
   "cell_type": "code",
   "execution_count": null,
   "metadata": {
    "collapsed": true
   },
   "outputs": [],
   "source": []
  }
 ],
 "metadata": {
  "kernelspec": {
   "display_name": "Python 3",
   "language": "python",
   "name": "python3"
  },
  "language_info": {
   "codemirror_mode": {
    "name": "ipython",
    "version": 3
   },
   "file_extension": ".py",
   "mimetype": "text/x-python",
   "name": "python",
   "nbconvert_exporter": "python",
   "pygments_lexer": "ipython3",
   "version": "3.6.2"
  }
 },
 "nbformat": 4,
 "nbformat_minor": 2
}
